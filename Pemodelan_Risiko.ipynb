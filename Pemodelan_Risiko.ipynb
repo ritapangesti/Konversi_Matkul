{
  "nbformat": 4,
  "nbformat_minor": 0,
  "metadata": {
    "colab": {
      "provenance": []
    },
    "kernelspec": {
      "name": "python3",
      "display_name": "Python 3"
    },
    "language_info": {
      "name": "python"
    }
  },
  "cells": [
    {
      "cell_type": "markdown",
      "source": [
        "Importing Libraries"
      ],
      "metadata": {
        "id": "UOB5EopFUTTM"
      }
    },
    {
      "cell_type": "code",
      "execution_count": 38,
      "metadata": {
        "id": "q6hV7kOH-AI8"
      },
      "outputs": [],
      "source": [
        "import numpy as np\n",
        "import pandas as pd\n",
        "import datetime as dt\n",
        "import yfinance as yf\n",
        "import matplotlib.pyplot as plt\n",
        "from scipy.stats import norm"
      ]
    },
    {
      "cell_type": "markdown",
      "source": [
        "Setting Time Range and Ticker List"
      ],
      "metadata": {
        "id": "Rv2xxBUJUZZc"
      }
    },
    {
      "cell_type": "code",
      "source": [
        "#Set time from to a certain number of years\n",
        "years = 15\n",
        "\n",
        "endDate = dt.datetime.now()\n",
        "startDate = endDate - dt.timedelta(days = 365*years)\n",
        "\n",
        "#Create a list of tickers\n",
        "tickers = ['SPY','BND','GLD','QQQ','VTI']"
      ],
      "metadata": {
        "id": "dFG21sIIIbqi"
      },
      "execution_count": 39,
      "outputs": []
    },
    {
      "cell_type": "markdown",
      "source": [
        "Downloading Adjusted Close Prices"
      ],
      "metadata": {
        "id": "GoQG49XxUeng"
      }
    },
    {
      "cell_type": "code",
      "source": [
        "#Download the daily adjusted close prices for the tickers\n",
        "adj_close_df = pd.DataFrame()\n",
        "\n",
        "for ticker in tickers:\n",
        "    data = yf.download(ticker, start = startDate, end = endDate)\n",
        "    adj_close_df[ticker] = data['Adj Close']\n",
        "\n",
        "print(adj_close_df)"
      ],
      "metadata": {
        "colab": {
          "base_uri": "https://localhost:8080/"
        },
        "id": "MAKBM4xuIfxR",
        "outputId": "2faf060a-1583-435a-decb-64ea2a2c62ed"
      },
      "execution_count": 40,
      "outputs": [
        {
          "output_type": "stream",
          "name": "stdout",
          "text": [
            "[*********************100%***********************]  1 of 1 completed\n",
            "[*********************100%***********************]  1 of 1 completed\n",
            "[*********************100%***********************]  1 of 1 completed\n",
            "[*********************100%***********************]  1 of 1 completed\n",
            "[*********************100%***********************]  1 of 1 completed\n",
            "                   SPY        BND         GLD         QQQ         VTI\n",
            "Date                                                                 \n",
            "2008-06-26   95.750587  48.785194   90.610001   39.963528   48.588211\n",
            "2008-06-27   95.227898  48.913925   91.470001   39.963528   48.520237\n",
            "2008-06-30   95.563927  49.074821   91.400002   39.543320   48.422016\n",
            "2008-07-01   95.862633  49.039932   92.660004   40.103600   48.648666\n",
            "2008-07-02   94.219841  48.871933   93.169998   39.140633   47.651360\n",
            "...                ...        ...         ...         ...         ...\n",
            "2023-06-15  440.962006  72.889999  181.910004  369.752808  220.089996\n",
            "2023-06-16  439.459991  72.730003  181.630005  367.425995  219.259995\n",
            "2023-06-20  437.179993  72.830002  179.750000  366.899994  218.179993\n",
            "2023-06-21  434.940002  72.949997  179.490005  361.899994  216.979996\n",
            "2023-06-22  436.510010  72.599998  177.710007  366.170013  217.559998\n",
            "\n",
            "[3773 rows x 5 columns]\n"
          ]
        }
      ]
    },
    {
      "cell_type": "markdown",
      "source": [
        "Calculating Daily Log Returns"
      ],
      "metadata": {
        "id": "KDVA4hQOUi16"
      }
    },
    {
      "cell_type": "code",
      "source": [
        "#Calculate the daily log returns and drop any NAs\n",
        "log_returns = np.log(adj_close_df/adj_close_df.shift(1))\n",
        "log_returns  = log_returns.dropna()\n",
        "\n",
        "print(log_returns)"
      ],
      "metadata": {
        "colab": {
          "base_uri": "https://localhost:8080/"
        },
        "id": "mc23ZqGzIjHU",
        "outputId": "8dc50861-dfc3-402f-b278-f03eaf3c1a19"
      },
      "execution_count": 41,
      "outputs": [
        {
          "output_type": "stream",
          "name": "stdout",
          "text": [
            "                 SPY       BND       GLD       QQQ       VTI\n",
            "Date                                                        \n",
            "2008-06-27 -0.005474  0.002635  0.009446  0.000000 -0.001400\n",
            "2008-06-30  0.003522  0.003284 -0.000766 -0.010570 -0.002026\n",
            "2008-07-01  0.003121 -0.000711  0.013691  0.014069  0.004670\n",
            "2008-07-02 -0.017285 -0.003432  0.005489 -0.024305 -0.020713\n",
            "2008-07-03  0.001030  0.000793 -0.011985 -0.001791 -0.000952\n",
            "...              ...       ...       ...       ...       ...\n",
            "2023-06-15  0.012321  0.006193  0.007006  0.011845  0.012114\n",
            "2023-06-16 -0.003412 -0.002197 -0.001540 -0.006313 -0.003778\n",
            "2023-06-20 -0.005202  0.001374 -0.010405 -0.001433 -0.004938\n",
            "2023-06-21 -0.005137  0.001646 -0.001447 -0.013721 -0.005515\n",
            "2023-06-22  0.003603 -0.004809 -0.009966  0.011730  0.002669\n",
            "\n",
            "[3772 rows x 5 columns]\n"
          ]
        }
      ]
    },
    {
      "cell_type": "markdown",
      "source": [
        "Defining Functions to Calculate Portfolio Expected Return and Standard Deviation"
      ],
      "metadata": {
        "id": "XsW_-jdHUnLQ"
      }
    },
    {
      "cell_type": "code",
      "source": [
        "#Create a function that will be used to calculate portfolio expected return\n",
        "#We are assuming that future returns are based on past returns, which is not a reliable assumption.\n",
        "def expected_return(weights, log_returns):\n",
        "    return np.sum(log_returns.mean()*weights)\n",
        "\n",
        "#Create a function that will be used to calculate portfolio standard deviation\n",
        "def standard_deviation (weights, cov_matrix):\n",
        "    variance = weights.T @ cov_matrix @ weights\n",
        "    return np.sqrt(variance)"
      ],
      "metadata": {
        "id": "6_TrVx67ImXo"
      },
      "execution_count": 42,
      "outputs": []
    },
    {
      "cell_type": "markdown",
      "source": [
        "Creating a Covariance Matrix"
      ],
      "metadata": {
        "id": "4UdZ00w5UrKn"
      }
    },
    {
      "cell_type": "code",
      "source": [
        "#Create a covariance matrix for all the securities\n",
        "cov_matrix = log_returns.cov()\n",
        "print(cov_matrix)"
      ],
      "metadata": {
        "colab": {
          "base_uri": "https://localhost:8080/"
        },
        "id": "10aYstGJIobt",
        "outputId": "5446ed92-4b12-4b16-ba20-c372172e6737"
      },
      "execution_count": 43,
      "outputs": [
        {
          "output_type": "stream",
          "name": "stdout",
          "text": [
            "              SPY           BND       GLD           QQQ           VTI\n",
            "SPY  1.687081e-04 -1.512426e-07  0.000006  1.723636e-04  1.693624e-04\n",
            "BND -1.512426e-07  1.068074e-05  0.000009 -4.459099e-07 -2.331776e-07\n",
            "GLD  6.134751e-06  8.626154e-06  0.000120  5.194282e-06  7.379486e-06\n",
            "QQQ  1.723636e-04 -4.459099e-07  0.000005  2.055943e-04  1.744722e-04\n",
            "VTI  1.693624e-04 -2.331776e-07  0.000007  1.744722e-04  1.721565e-04\n"
          ]
        }
      ]
    },
    {
      "cell_type": "markdown",
      "source": [
        "Calculating Portfolio Expected Return and Standard Deviation"
      ],
      "metadata": {
        "id": "BxiMi91wUvw9"
      }
    },
    {
      "cell_type": "code",
      "source": [
        "#Create an equally weighted portfolio and find total portfolio expected return and standard deviation\n",
        "portfolio_value = 1000000\n",
        "weights = np.array([1/len(tickers)]*len(tickers))\n",
        "portfolio_expected_return = expected_return(weights, log_returns)\n",
        "portfolio_std_dev = standard_deviation (weights, cov_matrix)"
      ],
      "metadata": {
        "id": "ybKLl8KDIsgU"
      },
      "execution_count": 44,
      "outputs": []
    },
    {
      "cell_type": "markdown",
      "source": [
        "Defining Functions for Monte Carlo Simulation"
      ],
      "metadata": {
        "id": "s_uAKec7UzRL"
      }
    },
    {
      "cell_type": "code",
      "source": [
        "def random_z_score():\n",
        "    return np.random.normal(0, 1)\n",
        "\n",
        "#Create a function to calculate scenarioGainLoss\n",
        "days = 20\n",
        "\n",
        "def scenario_gain_loss(portfolio_value, portfolio_std_dev, z_score, days):\n",
        "    return portfolio_value * portfolio_expected_return * days + portfolio_value * portfolio_std_dev * z_score * np.sqrt(days)"
      ],
      "metadata": {
        "id": "bgmdGGngIvGN"
      },
      "execution_count": 45,
      "outputs": []
    },
    {
      "cell_type": "markdown",
      "source": [
        "Running Monte Carlo Simulation"
      ],
      "metadata": {
        "id": "CT0G9vyQU4bG"
      }
    },
    {
      "cell_type": "code",
      "source": [
        "#Run 10000 simulations\n",
        "simulations = 10000\n",
        "scenarioReturn = []\n",
        "\n",
        "for i in range(simulations):\n",
        "    z_score = random_z_score()\n",
        "    scenarioReturn.append(scenario_gain_loss(portfolio_value, portfolio_std_dev, z_score, days))"
      ],
      "metadata": {
        "id": "WPTTbWDCIxZ2"
      },
      "execution_count": 46,
      "outputs": []
    },
    {
      "cell_type": "markdown",
      "source": [
        "Calculating Value at Risk (VaR)"
      ],
      "metadata": {
        "id": "O3C1qgaqU9At"
      }
    },
    {
      "cell_type": "code",
      "source": [
        "#Specify a confidence interval and calculate the Value at Risk (VaR)\n",
        "confidence_interval = 0.95\n",
        "VaR = -np.percentile(scenarioReturn, 100 * (1 - confidence_interval))\n",
        "print(VaR)"
      ],
      "metadata": {
        "colab": {
          "base_uri": "https://localhost:8080/"
        },
        "id": "5uj0tCkCIzLm",
        "outputId": "beb41756-c7b0-490f-e9c4-2dec3ad10a01"
      },
      "execution_count": 47,
      "outputs": [
        {
          "output_type": "stream",
          "name": "stdout",
          "text": [
            "55869.18374908318\n"
          ]
        }
      ]
    },
    {
      "cell_type": "markdown",
      "source": [
        "Plotting the Results"
      ],
      "metadata": {
        "id": "n8YP7Ji2VCcj"
      }
    },
    {
      "cell_type": "code",
      "source": [
        "#Plot the results of all 10000 scenarios\n",
        "plt.hist(scenarioReturn, bins=50, density=True)\n",
        "plt.xlabel('Scenario Gain/Loss ($)')\n",
        "plt.ylabel('Frequency')\n",
        "plt.title(f'Distribution of Portfolio Gain/Loss Over {days} Days')\n",
        "plt.axvline(-VaR, color='r', linestyle='dashed', linewidth=2, label=f'VaR at {confidence_interval:.0%} confidence level')\n",
        "plt.legend()\n",
        "plt.show()"
      ],
      "metadata": {
        "colab": {
          "base_uri": "https://localhost:8080/",
          "height": 472
        },
        "id": "c80sl30fI1EM",
        "outputId": "b1fcb911-b1ea-49fd-d4e2-6e6e8b7c72f0"
      },
      "execution_count": 48,
      "outputs": [
        {
          "output_type": "display_data",
          "data": {
            "text/plain": [
              "<Figure size 640x480 with 1 Axes>"
            ],
            "image/png": "[encoded data removed]"
          },
          "metadata": {}
        }
      ]
    }
  ]
}